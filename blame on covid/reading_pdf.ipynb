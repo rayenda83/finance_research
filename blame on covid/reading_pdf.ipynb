{
  "nbformat": 4,
  "nbformat_minor": 0,
  "metadata": {
    "colab": {
      "provenance": []
    },
    "kernelspec": {
      "name": "python3",
      "display_name": "Python 3"
    },
    "language_info": {
      "name": "python"
    }
  },
  "cells": [
    {
      "cell_type": "code",
      "source": [
        "pip install PyMuPDF"
      ],
      "metadata": {
        "colab": {
          "base_uri": "https://localhost:8080/"
        },
        "id": "YKGgvbhT9ept",
        "outputId": "d480448b-41a2-4cbb-a0cf-31797e00fa39"
      },
      "execution_count": 1,
      "outputs": [
        {
          "output_type": "stream",
          "name": "stdout",
          "text": [
            "Looking in indexes: https://pypi.org/simple, https://us-python.pkg.dev/colab-wheels/public/simple/\n",
            "Collecting PyMuPDF\n",
            "  Downloading PyMuPDF-1.22.3-cp310-cp310-manylinux_2_17_x86_64.manylinux2014_x86_64.whl (14.1 MB)\n",
            "\u001b[2K     \u001b[90m━━━━━━━━━━━━━━━━━━━━━━━━━━━━━━━━━━━━━━━━\u001b[0m \u001b[32m14.1/14.1 MB\u001b[0m \u001b[31m8.2 MB/s\u001b[0m eta \u001b[36m0:00:00\u001b[0m\n",
            "\u001b[?25hInstalling collected packages: PyMuPDF\n",
            "Successfully installed PyMuPDF-1.22.3\n"
          ]
        }
      ]
    },
    {
      "cell_type": "code",
      "source": [
        "import fitz\n",
        "import re\n"
      ],
      "metadata": {
        "id": "QqbIp6t6FTbm"
      },
      "execution_count": 2,
      "outputs": []
    },
    {
      "cell_type": "code",
      "source": [
        "pdf_file = '/content/sample_data/ADMG_Annual Report 2019.pdf'\n",
        "doc = fitz.open(pdf_file)\n",
        "\n",
        "word_count_covid = 0\n",
        "\n",
        "for page in doc:\n",
        "    text = page.get_text(\"text\").lower()\n",
        "    word_count_covid += len(re.findall(r'\\bcovid?\\b', text))\n",
        "    \n",
        "\n",
        "print(f'The word \"covid\" appears {word_count_covid} times in the PDF file.')\n"
      ],
      "metadata": {
        "colab": {
          "base_uri": "https://localhost:8080/"
        },
        "id": "bzW3DHPKFcvj",
        "outputId": "1c278fd0-faab-4b16-f684-4d605bf14851"
      },
      "execution_count": 3,
      "outputs": [
        {
          "output_type": "stream",
          "name": "stdout",
          "text": [
            "The word \"covid\" appears 6 times in the PDF file.\n"
          ]
        }
      ]
    },
    {
      "cell_type": "code",
      "source": [],
      "metadata": {
        "id": "32I7ZzQgFgBL"
      },
      "execution_count": null,
      "outputs": []
    }
  ]
}
