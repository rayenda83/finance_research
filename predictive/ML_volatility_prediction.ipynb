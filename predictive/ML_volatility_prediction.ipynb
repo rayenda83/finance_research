{
  "nbformat": 4,
  "nbformat_minor": 0,
  "metadata": {
    "colab": {
      "provenance": []
    },
    "kernelspec": {
      "name": "python3",
      "display_name": "Python 3"
    },
    "language_info": {
      "name": "python"
    }
  },
  "cells": [
    {
      "cell_type": "code",
      "execution_count": null,
      "metadata": {
        "id": "IE12pfQA5pCn"
      },
      "outputs": [],
      "source": [
        "!pip install yfinance\n",
        "!pip install pmdarima\n",
        "\n"
      ]
    },
    {
      "cell_type": "code",
      "source": [
        "import yfinance as yf\n",
        "import numpy as np\n",
        "import pandas as pd\n",
        "import matplotlib.pyplot as plt\n",
        "from statsmodels.tsa.statespace.sarimax import SARIMAX\n",
        "from statsmodels.graphics.tsaplots import plot_acf,plot_pacf\n",
        "from statsmodels.tsa.seasonal import seasonal_decompose\n",
        "from pmdarima import auto_arima\n",
        "from sklearn.metrics import mean_squared_error\n",
        "from statsmodels.tools.eval_measures import rmse\n",
        "import math\n",
        "import datetime\n",
        "import warnings\n"
      ],
      "metadata": {
        "id": "tqEWl6vw5t7c"
      },
      "execution_count": null,
      "outputs": []
    },
    {
      "cell_type": "code",
      "source": [
        "warnings.filterwarnings(\"ignore\")\n",
        "ticker = 'DOGE-USD'\n",
        "start = datetime.datetime(2017, 1, 1)\n",
        "end = datetime.datetime(2020, 1, 1)\n",
        "crypto_prices = yf.download(ticker, start, end, interval='1d').Close\n",
        "crypto_prices= crypto_prices.dropna()\n",
        "#crypto_prices['Date']=pd.to_datetime(crypto_prices['Date'])\n",
        "#crypto_prices= crypto_prices.sort_values('Date', ascending=True).reset.index(drop=True)\n",
        "#crypto_prices.set_index('Date', inplace=True)\n",
        "#crypto=pd.DataFrame(crypto_prices).set_index('Date', 'Close')\n",
        "crypto=pd.DataFrame(crypto_prices)\n",
        "crypto\n"
      ],
      "metadata": {
        "id": "tWowzFqu5whH"
      },
      "execution_count": null,
      "outputs": []
    },
    {
      "cell_type": "code",
      "source": [
        "auto_arima(crypto['Close'], seasonal=True, m=12,max_p=7, max_d=5,max_q=7, max_P=4, max_D=4,max_Q=4).summary()\n",
        "train_data = crypto[:len(crypto)-12]\n",
        "test_data = crypto[len(crypto)-12:]\n",
        "arima_model = SARIMAX(train_data['Close'], order = (2,1,1), seasonal_order = (4,0,3,12))\n",
        "arima_result = arima_model.fit()\n",
        "arima_result.summary()\n",
        "arima_pred = arima_result.predict(start = len(train_data), end = len(crypto)-1, typ=\"levels\").rename(\"ARIMA Predictions\")\n",
        "arima_pred\n",
        "test_data['Close'].plot(figsize = (16,5), legend=True)\n",
        "arima_pred.plot(legend = True);\n",
        "arima_rmse_error = rmse(test_data['Close'], arima_pred)\n",
        "arima_mse_error = arima_rmse_error**2\n",
        "mean_value = crypto['Close'].mean()\n",
        "\n",
        "print(f'MSE Error: {arima_mse_error}\\nRMSE Error: {arima_rmse_error}\\nMean: {mean_value}')\n",
        "test_data['ARIMA_Predictions'] = arima_pred\n",
        "from sklearn.preprocessing import MinMaxScaler\n",
        "scaler = MinMaxScaler()\n",
        "scaler.fit(train_data)\n",
        "scaled_train_data = scaler.transform(train_data)\n",
        "print(scaler.n_features_in_)\n",
        "\n",
        "from keras.preprocessing.sequence import TimeseriesGenerator\n",
        "\n",
        "n_input = 12\n",
        "n_features= 1\n",
        "generator = TimeseriesGenerator(scaled_train_data, scaled_train_data, length=n_input, batch_size=1)\n",
        "from keras.models import Sequential\n",
        "from keras.layers import Dense\n",
        "from keras.layers import LSTM\n",
        "\n",
        "lstm_model = Sequential()\n",
        "lstm_model.add(LSTM(200, activation='relu', input_shape=(n_input, n_features)))\n",
        "lstm_model.add(Dense(1))\n",
        "lstm_model.compile(optimizer='adam', loss='mse')\n",
        "\n",
        "lstm_model.summary()\n",
        "lstm_model.fit_generator(generator,epochs=20)\n",
        "losses_lstm = lstm_model.history.history['loss']\n",
        "plt.figure(figsize=(12,4))\n",
        "plt.xlabel(\"Epochs\")\n",
        "plt.ylabel(\"Loss\")\n",
        "plt.xticks(np.arange(0,21,1))\n",
        "plt.plot(range(len(losses_lstm)),losses_lstm);\n",
        "lstm_predictions_scaled = list()\n",
        "\n",
        "batch = scaled_train_data[-n_input:]\n",
        "current_batch = batch.reshape((1, n_input, n_features))\n",
        "\n",
        "for i in range(len(test_data)):\n",
        "    lstm_pred = lstm_model.predict(current_batch)[0]\n",
        "    lstm_predictions_scaled.append(lstm_pred)\n",
        "    current_batch = np.append(current_batch[:,1:,:],[[lstm_pred]],axis=1)\n",
        "lstm_predictions_scaled\n",
        "lstm_predictions = scaler.inverse_transform(lstm_predictions_scaled)\n",
        "lstm_predictions\n",
        "test_data['LSTM_Predictions'] = lstm_predictions\n",
        "test_data\n",
        "test_data['Close'].plot(figsize = (16,5), legend=True)\n",
        "test_data['LSTM_Predictions'].plot(legend = True);\n",
        "lstm_rmse_error = rmse(test_data['Close'], test_data[\"Close\"])\n",
        "lstm_mse_error = lstm_rmse_error**2\n",
        "mean_value = crypto['Close'].mean()\n"
      ],
      "metadata": {
        "id": "kxwEpRIp51on"
      },
      "execution_count": null,
      "outputs": []
    },
    {
      "cell_type": "code",
      "source": [
        "print(f'MSE Error: {lstm_mse_error}\\nRMSE Error: {lstm_rmse_error}\\nMean: {mean_value}')\n",
        "rmse_errors = [arima_rmse_error, lstm_rmse_error]\n",
        "mse_errors = [arima_mse_error, lstm_mse_error]\n",
        "errors = pd.DataFrame({\"Models\" : [\"ARIMA\", \"LSTM\"],\"RMSE Errors\" : rmse_errors, \"MSE Errors\" : mse_errors})\n",
        "plt.figure(figsize=(16,9))\n",
        "plt.plot_date(test_data.index, test_data[\"Close\"], linestyle=\"-\")\n",
        "plt.plot_date(test_data.index, test_data[\"ARIMA_Predictions\"], linestyle=\"-.\")\n",
        "plt.plot_date(test_data.index, test_data[\"LSTM_Predictions\"], linestyle=\"--\")\n",
        "plt.legend()\n",
        "plt.show()\n",
        "rmse_errors = [arima_rmse_error, lstm_rmse_error]\n",
        "mse_errors = [arima_mse_error, lstm_mse_error]\n",
        "errors = pd.DataFrame({\"Models\" : [\"ARIMA\", \"LSTM\"],\"RMSE Errors\" : rmse_errors, \"MSE Errors\" : mse_errors})\n",
        "plt.figure(figsize=(16,9))\n",
        "plt.plot_date(test_data.index, test_data[\"Close\"], linestyle=\"-\")\n",
        "plt.plot_date(test_data.index, test_data[\"ARIMA_Predictions\"], linestyle=\"-.\")\n",
        "plt.plot_date(test_data.index, test_data[\"LSTM_Predictions\"], linestyle=\"--\")\n",
        "plt.legend()\n",
        "plt.show()\n",
        "print(f\"Mean: {test_data['Close'].mean()}\")\n",
        "errors\n",
        "test_data"
      ],
      "metadata": {
        "id": "B4bNntAJ54ZL"
      },
      "execution_count": null,
      "outputs": []
    }
  ]
}
