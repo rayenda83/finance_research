{
 "cells": [
  {
   "cell_type": "markdown",
   "id": "c6b14fe9",
   "metadata": {
    "papermill": {
     "duration": 0.006273,
     "end_time": "2025-01-19T21:04:01.415735",
     "exception": false,
     "start_time": "2025-01-19T21:04:01.409462",
     "status": "completed"
    },
    "tags": []
   },
   "source": [
    "# Installing and Loading Libraries"
   ]
  },
  {
   "cell_type": "code",
   "execution_count": 1,
   "id": "6f2e7ad7",
   "metadata": {
    "execution": {
     "iopub.execute_input": "2025-01-19T21:04:01.428215Z",
     "iopub.status.busy": "2025-01-19T21:04:01.427854Z",
     "iopub.status.idle": "2025-01-19T21:04:01.432817Z",
     "shell.execute_reply": "2025-01-19T21:04:01.432109Z"
    },
    "papermill": {
     "duration": 0.012734,
     "end_time": "2025-01-19T21:04:01.434191",
     "exception": false,
     "start_time": "2025-01-19T21:04:01.421457",
     "status": "completed"
    },
    "tags": []
   },
   "outputs": [],
   "source": [
    "# Surpress warnings:\n",
    "def warn(*args, **kwargs):\n",
    "    pass\n",
    "import warnings\n",
    "warnings.warn = warn"
   ]
  },
  {
   "cell_type": "code",
   "execution_count": 2,
   "id": "e6aae1e7",
   "metadata": {
    "execution": {
     "iopub.execute_input": "2025-01-19T21:04:01.445897Z",
     "iopub.status.busy": "2025-01-19T21:04:01.445654Z",
     "iopub.status.idle": "2025-01-19T21:04:06.446543Z",
     "shell.execute_reply": "2025-01-19T21:04:06.445125Z"
    },
    "papermill": {
     "duration": 5.009135,
     "end_time": "2025-01-19T21:04:06.448629",
     "exception": false,
     "start_time": "2025-01-19T21:04:01.439494",
     "status": "completed"
    },
    "tags": []
   },
   "outputs": [
    {
     "name": "stdout",
     "output_type": "stream",
     "text": [
      "Requirement already satisfied: scikit-learn in /usr/local/lib/python3.10/dist-packages (1.2.2)\r\n",
      "Requirement already satisfied: numpy>=1.17.3 in /usr/local/lib/python3.10/dist-packages (from scikit-learn) (1.26.4)\r\n",
      "Requirement already satisfied: scipy>=1.3.2 in /usr/local/lib/python3.10/dist-packages (from scikit-learn) (1.13.1)\r\n",
      "Requirement already satisfied: joblib>=1.1.1 in /usr/local/lib/python3.10/dist-packages (from scikit-learn) (1.4.2)\r\n",
      "Requirement already satisfied: threadpoolctl>=2.0.0 in /usr/local/lib/python3.10/dist-packages (from scikit-learn) (3.5.0)\r\n",
      "Note: you may need to restart the kernel to use updated packages.\n"
     ]
    }
   ],
   "source": [
    "%pip install scikit-learn"
   ]
  },
  {
   "cell_type": "code",
   "execution_count": 3,
   "id": "80e87a47",
   "metadata": {
    "execution": {
     "iopub.execute_input": "2025-01-19T21:04:06.469458Z",
     "iopub.status.busy": "2025-01-19T21:04:06.469130Z",
     "iopub.status.idle": "2025-01-19T21:04:09.037661Z",
     "shell.execute_reply": "2025-01-19T21:04:09.036657Z"
    },
    "papermill": {
     "duration": 2.581752,
     "end_time": "2025-01-19T21:04:09.039307",
     "exception": false,
     "start_time": "2025-01-19T21:04:06.457555",
     "status": "completed"
    },
    "tags": []
   },
   "outputs": [],
   "source": [
    "import pandas as pd\n",
    "import matplotlib.pyplot as plt\n",
    "import numpy as np\n",
    "import seaborn as sns\n",
    "from sklearn.pipeline import Pipeline\n",
    "from sklearn.preprocessing import StandardScaler,PolynomialFeatures\n",
    "from sklearn.linear_model import LinearRegression\n",
    "%matplotlib inline"
   ]
  },
  {
   "cell_type": "markdown",
   "id": "e504726a",
   "metadata": {
    "papermill": {
     "duration": 0.005304,
     "end_time": "2025-01-19T21:04:09.050614",
     "exception": false,
     "start_time": "2025-01-19T21:04:09.045310",
     "status": "completed"
    },
    "tags": []
   },
   "source": [
    "# Loading and Reviewing the Dataset"
   ]
  },
  {
   "cell_type": "code",
   "execution_count": 4,
   "id": "b10891d8",
   "metadata": {
    "execution": {
     "iopub.execute_input": "2025-01-19T21:04:09.062280Z",
     "iopub.status.busy": "2025-01-19T21:04:09.061898Z",
     "iopub.status.idle": "2025-01-19T21:04:09.166639Z",
     "shell.execute_reply": "2025-01-19T21:04:09.165687Z"
    },
    "papermill": {
     "duration": 0.112322,
     "end_time": "2025-01-19T21:04:09.168292",
     "exception": false,
     "start_time": "2025-01-19T21:04:09.055970",
     "status": "completed"
    },
    "tags": []
   },
   "outputs": [],
   "source": [
    "df = pd.read_csv('/kaggle/input/housesalesprediction/kc_house_data.csv')"
   ]
  },
  {
   "cell_type": "code",
   "execution_count": 5,
   "id": "06e97ba0",
   "metadata": {
    "execution": {
     "iopub.execute_input": "2025-01-19T21:04:09.180581Z",
     "iopub.status.busy": "2025-01-19T21:04:09.180268Z",
     "iopub.status.idle": "2025-01-19T21:04:09.209964Z",
     "shell.execute_reply": "2025-01-19T21:04:09.209122Z"
    },
    "papermill": {
     "duration": 0.037121,
     "end_time": "2025-01-19T21:04:09.211208",
     "exception": false,
     "start_time": "2025-01-19T21:04:09.174087",
     "status": "completed"
    },
    "tags": []
   },
   "outputs": [
    {
     "data": {
      "text/html": [
       "<div>\n",
       "<style scoped>\n",
       "    .dataframe tbody tr th:only-of-type {\n",
       "        vertical-align: middle;\n",
       "    }\n",
       "\n",
       "    .dataframe tbody tr th {\n",
       "        vertical-align: top;\n",
       "    }\n",
       "\n",
       "    .dataframe thead th {\n",
       "        text-align: right;\n",
       "    }\n",
       "</style>\n",
       "<table border=\"1\" class=\"dataframe\">\n",
       "  <thead>\n",
       "    <tr style=\"text-align: right;\">\n",
       "      <th></th>\n",
       "      <th>id</th>\n",
       "      <th>date</th>\n",
       "      <th>price</th>\n",
       "      <th>bedrooms</th>\n",
       "      <th>bathrooms</th>\n",
       "      <th>sqft_living</th>\n",
       "      <th>sqft_lot</th>\n",
       "      <th>floors</th>\n",
       "      <th>waterfront</th>\n",
       "      <th>view</th>\n",
       "      <th>...</th>\n",
       "      <th>grade</th>\n",
       "      <th>sqft_above</th>\n",
       "      <th>sqft_basement</th>\n",
       "      <th>yr_built</th>\n",
       "      <th>yr_renovated</th>\n",
       "      <th>zipcode</th>\n",
       "      <th>lat</th>\n",
       "      <th>long</th>\n",
       "      <th>sqft_living15</th>\n",
       "      <th>sqft_lot15</th>\n",
       "    </tr>\n",
       "  </thead>\n",
       "  <tbody>\n",
       "    <tr>\n",
       "      <th>0</th>\n",
       "      <td>7129300520</td>\n",
       "      <td>20141013T000000</td>\n",
       "      <td>221900.0</td>\n",
       "      <td>3</td>\n",
       "      <td>1.00</td>\n",
       "      <td>1180</td>\n",
       "      <td>5650</td>\n",
       "      <td>1.0</td>\n",
       "      <td>0</td>\n",
       "      <td>0</td>\n",
       "      <td>...</td>\n",
       "      <td>7</td>\n",
       "      <td>1180</td>\n",
       "      <td>0</td>\n",
       "      <td>1955</td>\n",
       "      <td>0</td>\n",
       "      <td>98178</td>\n",
       "      <td>47.5112</td>\n",
       "      <td>-122.257</td>\n",
       "      <td>1340</td>\n",
       "      <td>5650</td>\n",
       "    </tr>\n",
       "    <tr>\n",
       "      <th>1</th>\n",
       "      <td>6414100192</td>\n",
       "      <td>20141209T000000</td>\n",
       "      <td>538000.0</td>\n",
       "      <td>3</td>\n",
       "      <td>2.25</td>\n",
       "      <td>2570</td>\n",
       "      <td>7242</td>\n",
       "      <td>2.0</td>\n",
       "      <td>0</td>\n",
       "      <td>0</td>\n",
       "      <td>...</td>\n",
       "      <td>7</td>\n",
       "      <td>2170</td>\n",
       "      <td>400</td>\n",
       "      <td>1951</td>\n",
       "      <td>1991</td>\n",
       "      <td>98125</td>\n",
       "      <td>47.7210</td>\n",
       "      <td>-122.319</td>\n",
       "      <td>1690</td>\n",
       "      <td>7639</td>\n",
       "    </tr>\n",
       "    <tr>\n",
       "      <th>2</th>\n",
       "      <td>5631500400</td>\n",
       "      <td>20150225T000000</td>\n",
       "      <td>180000.0</td>\n",
       "      <td>2</td>\n",
       "      <td>1.00</td>\n",
       "      <td>770</td>\n",
       "      <td>10000</td>\n",
       "      <td>1.0</td>\n",
       "      <td>0</td>\n",
       "      <td>0</td>\n",
       "      <td>...</td>\n",
       "      <td>6</td>\n",
       "      <td>770</td>\n",
       "      <td>0</td>\n",
       "      <td>1933</td>\n",
       "      <td>0</td>\n",
       "      <td>98028</td>\n",
       "      <td>47.7379</td>\n",
       "      <td>-122.233</td>\n",
       "      <td>2720</td>\n",
       "      <td>8062</td>\n",
       "    </tr>\n",
       "    <tr>\n",
       "      <th>3</th>\n",
       "      <td>2487200875</td>\n",
       "      <td>20141209T000000</td>\n",
       "      <td>604000.0</td>\n",
       "      <td>4</td>\n",
       "      <td>3.00</td>\n",
       "      <td>1960</td>\n",
       "      <td>5000</td>\n",
       "      <td>1.0</td>\n",
       "      <td>0</td>\n",
       "      <td>0</td>\n",
       "      <td>...</td>\n",
       "      <td>7</td>\n",
       "      <td>1050</td>\n",
       "      <td>910</td>\n",
       "      <td>1965</td>\n",
       "      <td>0</td>\n",
       "      <td>98136</td>\n",
       "      <td>47.5208</td>\n",
       "      <td>-122.393</td>\n",
       "      <td>1360</td>\n",
       "      <td>5000</td>\n",
       "    </tr>\n",
       "    <tr>\n",
       "      <th>4</th>\n",
       "      <td>1954400510</td>\n",
       "      <td>20150218T000000</td>\n",
       "      <td>510000.0</td>\n",
       "      <td>3</td>\n",
       "      <td>2.00</td>\n",
       "      <td>1680</td>\n",
       "      <td>8080</td>\n",
       "      <td>1.0</td>\n",
       "      <td>0</td>\n",
       "      <td>0</td>\n",
       "      <td>...</td>\n",
       "      <td>8</td>\n",
       "      <td>1680</td>\n",
       "      <td>0</td>\n",
       "      <td>1987</td>\n",
       "      <td>0</td>\n",
       "      <td>98074</td>\n",
       "      <td>47.6168</td>\n",
       "      <td>-122.045</td>\n",
       "      <td>1800</td>\n",
       "      <td>7503</td>\n",
       "    </tr>\n",
       "  </tbody>\n",
       "</table>\n",
       "<p>5 rows × 21 columns</p>\n",
       "</div>"
      ],
      "text/plain": [
       "           id             date     price  bedrooms  bathrooms  sqft_living  \\\n",
       "0  7129300520  20141013T000000  221900.0         3       1.00         1180   \n",
       "1  6414100192  20141209T000000  538000.0         3       2.25         2570   \n",
       "2  5631500400  20150225T000000  180000.0         2       1.00          770   \n",
       "3  2487200875  20141209T000000  604000.0         4       3.00         1960   \n",
       "4  1954400510  20150218T000000  510000.0         3       2.00         1680   \n",
       "\n",
       "   sqft_lot  floors  waterfront  view  ...  grade  sqft_above  sqft_basement  \\\n",
       "0      5650     1.0           0     0  ...      7        1180              0   \n",
       "1      7242     2.0           0     0  ...      7        2170            400   \n",
       "2     10000     1.0           0     0  ...      6         770              0   \n",
       "3      5000     1.0           0     0  ...      7        1050            910   \n",
       "4      8080     1.0           0     0  ...      8        1680              0   \n",
       "\n",
       "   yr_built  yr_renovated  zipcode      lat     long  sqft_living15  \\\n",
       "0      1955             0    98178  47.5112 -122.257           1340   \n",
       "1      1951          1991    98125  47.7210 -122.319           1690   \n",
       "2      1933             0    98028  47.7379 -122.233           2720   \n",
       "3      1965             0    98136  47.5208 -122.393           1360   \n",
       "4      1987             0    98074  47.6168 -122.045           1800   \n",
       "\n",
       "   sqft_lot15  \n",
       "0        5650  \n",
       "1        7639  \n",
       "2        8062  \n",
       "3        5000  \n",
       "4        7503  \n",
       "\n",
       "[5 rows x 21 columns]"
      ]
     },
     "execution_count": 5,
     "metadata": {},
     "output_type": "execute_result"
    }
   ],
   "source": [
    "df.head()"
   ]
  },
  {
   "cell_type": "code",
   "execution_count": 6,
   "id": "74eb2fbf",
   "metadata": {
    "execution": {
     "iopub.execute_input": "2025-01-19T21:04:09.223756Z",
     "iopub.status.busy": "2025-01-19T21:04:09.223485Z",
     "iopub.status.idle": "2025-01-19T21:04:09.262526Z",
     "shell.execute_reply": "2025-01-19T21:04:09.261634Z"
    },
    "papermill": {
     "duration": 0.046511,
     "end_time": "2025-01-19T21:04:09.263954",
     "exception": false,
     "start_time": "2025-01-19T21:04:09.217443",
     "status": "completed"
    },
    "tags": []
   },
   "outputs": [
    {
     "name": "stdout",
     "output_type": "stream",
     "text": [
      "0\n"
     ]
    },
    {
     "data": {
      "text/html": [
       "<div>\n",
       "<style scoped>\n",
       "    .dataframe tbody tr th:only-of-type {\n",
       "        vertical-align: middle;\n",
       "    }\n",
       "\n",
       "    .dataframe tbody tr th {\n",
       "        vertical-align: top;\n",
       "    }\n",
       "\n",
       "    .dataframe thead th {\n",
       "        text-align: right;\n",
       "    }\n",
       "</style>\n",
       "<table border=\"1\" class=\"dataframe\">\n",
       "  <thead>\n",
       "    <tr style=\"text-align: right;\">\n",
       "      <th></th>\n",
       "      <th>id</th>\n",
       "      <th>date</th>\n",
       "      <th>price</th>\n",
       "      <th>bedrooms</th>\n",
       "      <th>bathrooms</th>\n",
       "      <th>sqft_living</th>\n",
       "      <th>sqft_lot</th>\n",
       "      <th>floors</th>\n",
       "      <th>waterfront</th>\n",
       "      <th>view</th>\n",
       "      <th>...</th>\n",
       "      <th>grade</th>\n",
       "      <th>sqft_above</th>\n",
       "      <th>sqft_basement</th>\n",
       "      <th>yr_built</th>\n",
       "      <th>yr_renovated</th>\n",
       "      <th>zipcode</th>\n",
       "      <th>lat</th>\n",
       "      <th>long</th>\n",
       "      <th>sqft_living15</th>\n",
       "      <th>sqft_lot15</th>\n",
       "    </tr>\n",
       "  </thead>\n",
       "  <tbody>\n",
       "  </tbody>\n",
       "</table>\n",
       "<p>0 rows × 21 columns</p>\n",
       "</div>"
      ],
      "text/plain": [
       "Empty DataFrame\n",
       "Columns: [id, date, price, bedrooms, bathrooms, sqft_living, sqft_lot, floors, waterfront, view, condition, grade, sqft_above, sqft_basement, yr_built, yr_renovated, zipcode, lat, long, sqft_living15, sqft_lot15]\n",
       "Index: []\n",
       "\n",
       "[0 rows x 21 columns]"
      ]
     },
     "execution_count": 6,
     "metadata": {},
     "output_type": "execute_result"
    }
   ],
   "source": [
    "print(df.duplicated().sum())\n",
    "\n",
    "duplicates =df[df.duplicated()]\n",
    "\n",
    "duplicates.head()"
   ]
  },
  {
   "cell_type": "code",
   "execution_count": 7,
   "id": "583454d3",
   "metadata": {
    "execution": {
     "iopub.execute_input": "2025-01-19T21:04:09.277102Z",
     "iopub.status.busy": "2025-01-19T21:04:09.276873Z",
     "iopub.status.idle": "2025-01-19T21:04:09.282352Z",
     "shell.execute_reply": "2025-01-19T21:04:09.281523Z"
    },
    "papermill": {
     "duration": 0.013752,
     "end_time": "2025-01-19T21:04:09.283786",
     "exception": false,
     "start_time": "2025-01-19T21:04:09.270034",
     "status": "completed"
    },
    "tags": []
   },
   "outputs": [
    {
     "data": {
      "text/plain": [
       "id                 int64\n",
       "date              object\n",
       "price            float64\n",
       "bedrooms           int64\n",
       "bathrooms        float64\n",
       "sqft_living        int64\n",
       "sqft_lot           int64\n",
       "floors           float64\n",
       "waterfront         int64\n",
       "view               int64\n",
       "condition          int64\n",
       "grade              int64\n",
       "sqft_above         int64\n",
       "sqft_basement      int64\n",
       "yr_built           int64\n",
       "yr_renovated       int64\n",
       "zipcode            int64\n",
       "lat              float64\n",
       "long             float64\n",
       "sqft_living15      int64\n",
       "sqft_lot15         int64\n",
       "dtype: object"
      ]
     },
     "execution_count": 7,
     "metadata": {},
     "output_type": "execute_result"
    }
   ],
   "source": [
    "df.dtypes"
   ]
  },
  {
   "cell_type": "code",
   "execution_count": 8,
   "id": "87c68622",
   "metadata": {
    "execution": {
     "iopub.execute_input": "2025-01-19T21:04:09.296819Z",
     "iopub.status.busy": "2025-01-19T21:04:09.296601Z",
     "iopub.status.idle": "2025-01-19T21:04:09.357263Z",
     "shell.execute_reply": "2025-01-19T21:04:09.356513Z"
    },
    "papermill": {
     "duration": 0.068759,
     "end_time": "2025-01-19T21:04:09.358616",
     "exception": false,
     "start_time": "2025-01-19T21:04:09.289857",
     "status": "completed"
    },
    "tags": []
   },
   "outputs": [
    {
     "data": {
      "text/html": [
       "<div>\n",
       "<style scoped>\n",
       "    .dataframe tbody tr th:only-of-type {\n",
       "        vertical-align: middle;\n",
       "    }\n",
       "\n",
       "    .dataframe tbody tr th {\n",
       "        vertical-align: top;\n",
       "    }\n",
       "\n",
       "    .dataframe thead th {\n",
       "        text-align: right;\n",
       "    }\n",
       "</style>\n",
       "<table border=\"1\" class=\"dataframe\">\n",
       "  <thead>\n",
       "    <tr style=\"text-align: right;\">\n",
       "      <th></th>\n",
       "      <th>id</th>\n",
       "      <th>price</th>\n",
       "      <th>bedrooms</th>\n",
       "      <th>bathrooms</th>\n",
       "      <th>sqft_living</th>\n",
       "      <th>sqft_lot</th>\n",
       "      <th>floors</th>\n",
       "      <th>waterfront</th>\n",
       "      <th>view</th>\n",
       "      <th>condition</th>\n",
       "      <th>grade</th>\n",
       "      <th>sqft_above</th>\n",
       "      <th>sqft_basement</th>\n",
       "      <th>yr_built</th>\n",
       "      <th>yr_renovated</th>\n",
       "      <th>zipcode</th>\n",
       "      <th>lat</th>\n",
       "      <th>long</th>\n",
       "      <th>sqft_living15</th>\n",
       "      <th>sqft_lot15</th>\n",
       "    </tr>\n",
       "  </thead>\n",
       "  <tbody>\n",
       "    <tr>\n",
       "      <th>count</th>\n",
       "      <td>2.161300e+04</td>\n",
       "      <td>2.161300e+04</td>\n",
       "      <td>21613.000000</td>\n",
       "      <td>21613.000000</td>\n",
       "      <td>21613.000000</td>\n",
       "      <td>2.161300e+04</td>\n",
       "      <td>21613.000000</td>\n",
       "      <td>21613.000000</td>\n",
       "      <td>21613.000000</td>\n",
       "      <td>21613.000000</td>\n",
       "      <td>21613.000000</td>\n",
       "      <td>21613.000000</td>\n",
       "      <td>21613.000000</td>\n",
       "      <td>21613.000000</td>\n",
       "      <td>21613.000000</td>\n",
       "      <td>21613.000000</td>\n",
       "      <td>21613.000000</td>\n",
       "      <td>21613.000000</td>\n",
       "      <td>21613.000000</td>\n",
       "      <td>21613.000000</td>\n",
       "    </tr>\n",
       "    <tr>\n",
       "      <th>mean</th>\n",
       "      <td>4.580302e+09</td>\n",
       "      <td>5.400881e+05</td>\n",
       "      <td>3.370842</td>\n",
       "      <td>2.114757</td>\n",
       "      <td>2079.899736</td>\n",
       "      <td>1.510697e+04</td>\n",
       "      <td>1.494309</td>\n",
       "      <td>0.007542</td>\n",
       "      <td>0.234303</td>\n",
       "      <td>3.409430</td>\n",
       "      <td>7.656873</td>\n",
       "      <td>1788.390691</td>\n",
       "      <td>291.509045</td>\n",
       "      <td>1971.005136</td>\n",
       "      <td>84.402258</td>\n",
       "      <td>98077.939805</td>\n",
       "      <td>47.560053</td>\n",
       "      <td>-122.213896</td>\n",
       "      <td>1986.552492</td>\n",
       "      <td>12768.455652</td>\n",
       "    </tr>\n",
       "    <tr>\n",
       "      <th>std</th>\n",
       "      <td>2.876566e+09</td>\n",
       "      <td>3.671272e+05</td>\n",
       "      <td>0.930062</td>\n",
       "      <td>0.770163</td>\n",
       "      <td>918.440897</td>\n",
       "      <td>4.142051e+04</td>\n",
       "      <td>0.539989</td>\n",
       "      <td>0.086517</td>\n",
       "      <td>0.766318</td>\n",
       "      <td>0.650743</td>\n",
       "      <td>1.175459</td>\n",
       "      <td>828.090978</td>\n",
       "      <td>442.575043</td>\n",
       "      <td>29.373411</td>\n",
       "      <td>401.679240</td>\n",
       "      <td>53.505026</td>\n",
       "      <td>0.138564</td>\n",
       "      <td>0.140828</td>\n",
       "      <td>685.391304</td>\n",
       "      <td>27304.179631</td>\n",
       "    </tr>\n",
       "    <tr>\n",
       "      <th>min</th>\n",
       "      <td>1.000102e+06</td>\n",
       "      <td>7.500000e+04</td>\n",
       "      <td>0.000000</td>\n",
       "      <td>0.000000</td>\n",
       "      <td>290.000000</td>\n",
       "      <td>5.200000e+02</td>\n",
       "      <td>1.000000</td>\n",
       "      <td>0.000000</td>\n",
       "      <td>0.000000</td>\n",
       "      <td>1.000000</td>\n",
       "      <td>1.000000</td>\n",
       "      <td>290.000000</td>\n",
       "      <td>0.000000</td>\n",
       "      <td>1900.000000</td>\n",
       "      <td>0.000000</td>\n",
       "      <td>98001.000000</td>\n",
       "      <td>47.155900</td>\n",
       "      <td>-122.519000</td>\n",
       "      <td>399.000000</td>\n",
       "      <td>651.000000</td>\n",
       "    </tr>\n",
       "    <tr>\n",
       "      <th>25%</th>\n",
       "      <td>2.123049e+09</td>\n",
       "      <td>3.219500e+05</td>\n",
       "      <td>3.000000</td>\n",
       "      <td>1.750000</td>\n",
       "      <td>1427.000000</td>\n",
       "      <td>5.040000e+03</td>\n",
       "      <td>1.000000</td>\n",
       "      <td>0.000000</td>\n",
       "      <td>0.000000</td>\n",
       "      <td>3.000000</td>\n",
       "      <td>7.000000</td>\n",
       "      <td>1190.000000</td>\n",
       "      <td>0.000000</td>\n",
       "      <td>1951.000000</td>\n",
       "      <td>0.000000</td>\n",
       "      <td>98033.000000</td>\n",
       "      <td>47.471000</td>\n",
       "      <td>-122.328000</td>\n",
       "      <td>1490.000000</td>\n",
       "      <td>5100.000000</td>\n",
       "    </tr>\n",
       "    <tr>\n",
       "      <th>50%</th>\n",
       "      <td>3.904930e+09</td>\n",
       "      <td>4.500000e+05</td>\n",
       "      <td>3.000000</td>\n",
       "      <td>2.250000</td>\n",
       "      <td>1910.000000</td>\n",
       "      <td>7.618000e+03</td>\n",
       "      <td>1.500000</td>\n",
       "      <td>0.000000</td>\n",
       "      <td>0.000000</td>\n",
       "      <td>3.000000</td>\n",
       "      <td>7.000000</td>\n",
       "      <td>1560.000000</td>\n",
       "      <td>0.000000</td>\n",
       "      <td>1975.000000</td>\n",
       "      <td>0.000000</td>\n",
       "      <td>98065.000000</td>\n",
       "      <td>47.571800</td>\n",
       "      <td>-122.230000</td>\n",
       "      <td>1840.000000</td>\n",
       "      <td>7620.000000</td>\n",
       "    </tr>\n",
       "    <tr>\n",
       "      <th>75%</th>\n",
       "      <td>7.308900e+09</td>\n",
       "      <td>6.450000e+05</td>\n",
       "      <td>4.000000</td>\n",
       "      <td>2.500000</td>\n",
       "      <td>2550.000000</td>\n",
       "      <td>1.068800e+04</td>\n",
       "      <td>2.000000</td>\n",
       "      <td>0.000000</td>\n",
       "      <td>0.000000</td>\n",
       "      <td>4.000000</td>\n",
       "      <td>8.000000</td>\n",
       "      <td>2210.000000</td>\n",
       "      <td>560.000000</td>\n",
       "      <td>1997.000000</td>\n",
       "      <td>0.000000</td>\n",
       "      <td>98118.000000</td>\n",
       "      <td>47.678000</td>\n",
       "      <td>-122.125000</td>\n",
       "      <td>2360.000000</td>\n",
       "      <td>10083.000000</td>\n",
       "    </tr>\n",
       "    <tr>\n",
       "      <th>max</th>\n",
       "      <td>9.900000e+09</td>\n",
       "      <td>7.700000e+06</td>\n",
       "      <td>33.000000</td>\n",
       "      <td>8.000000</td>\n",
       "      <td>13540.000000</td>\n",
       "      <td>1.651359e+06</td>\n",
       "      <td>3.500000</td>\n",
       "      <td>1.000000</td>\n",
       "      <td>4.000000</td>\n",
       "      <td>5.000000</td>\n",
       "      <td>13.000000</td>\n",
       "      <td>9410.000000</td>\n",
       "      <td>4820.000000</td>\n",
       "      <td>2015.000000</td>\n",
       "      <td>2015.000000</td>\n",
       "      <td>98199.000000</td>\n",
       "      <td>47.777600</td>\n",
       "      <td>-121.315000</td>\n",
       "      <td>6210.000000</td>\n",
       "      <td>871200.000000</td>\n",
       "    </tr>\n",
       "  </tbody>\n",
       "</table>\n",
       "</div>"
      ],
      "text/plain": [
       "                 id         price      bedrooms     bathrooms   sqft_living  \\\n",
       "count  2.161300e+04  2.161300e+04  21613.000000  21613.000000  21613.000000   \n",
       "mean   4.580302e+09  5.400881e+05      3.370842      2.114757   2079.899736   \n",
       "std    2.876566e+09  3.671272e+05      0.930062      0.770163    918.440897   \n",
       "min    1.000102e+06  7.500000e+04      0.000000      0.000000    290.000000   \n",
       "25%    2.123049e+09  3.219500e+05      3.000000      1.750000   1427.000000   \n",
       "50%    3.904930e+09  4.500000e+05      3.000000      2.250000   1910.000000   \n",
       "75%    7.308900e+09  6.450000e+05      4.000000      2.500000   2550.000000   \n",
       "max    9.900000e+09  7.700000e+06     33.000000      8.000000  13540.000000   \n",
       "\n",
       "           sqft_lot        floors    waterfront          view     condition  \\\n",
       "count  2.161300e+04  21613.000000  21613.000000  21613.000000  21613.000000   \n",
       "mean   1.510697e+04      1.494309      0.007542      0.234303      3.409430   \n",
       "std    4.142051e+04      0.539989      0.086517      0.766318      0.650743   \n",
       "min    5.200000e+02      1.000000      0.000000      0.000000      1.000000   \n",
       "25%    5.040000e+03      1.000000      0.000000      0.000000      3.000000   \n",
       "50%    7.618000e+03      1.500000      0.000000      0.000000      3.000000   \n",
       "75%    1.068800e+04      2.000000      0.000000      0.000000      4.000000   \n",
       "max    1.651359e+06      3.500000      1.000000      4.000000      5.000000   \n",
       "\n",
       "              grade    sqft_above  sqft_basement      yr_built  yr_renovated  \\\n",
       "count  21613.000000  21613.000000   21613.000000  21613.000000  21613.000000   \n",
       "mean       7.656873   1788.390691     291.509045   1971.005136     84.402258   \n",
       "std        1.175459    828.090978     442.575043     29.373411    401.679240   \n",
       "min        1.000000    290.000000       0.000000   1900.000000      0.000000   \n",
       "25%        7.000000   1190.000000       0.000000   1951.000000      0.000000   \n",
       "50%        7.000000   1560.000000       0.000000   1975.000000      0.000000   \n",
       "75%        8.000000   2210.000000     560.000000   1997.000000      0.000000   \n",
       "max       13.000000   9410.000000    4820.000000   2015.000000   2015.000000   \n",
       "\n",
       "            zipcode           lat          long  sqft_living15     sqft_lot15  \n",
       "count  21613.000000  21613.000000  21613.000000   21613.000000   21613.000000  \n",
       "mean   98077.939805     47.560053   -122.213896    1986.552492   12768.455652  \n",
       "std       53.505026      0.138564      0.140828     685.391304   27304.179631  \n",
       "min    98001.000000     47.155900   -122.519000     399.000000     651.000000  \n",
       "25%    98033.000000     47.471000   -122.328000    1490.000000    5100.000000  \n",
       "50%    98065.000000     47.571800   -122.230000    1840.000000    7620.000000  \n",
       "75%    98118.000000     47.678000   -122.125000    2360.000000   10083.000000  \n",
       "max    98199.000000     47.777600   -121.315000    6210.000000  871200.000000  "
      ]
     },
     "execution_count": 8,
     "metadata": {},
     "output_type": "execute_result"
    }
   ],
   "source": [
    "df.describe()"
   ]
  },
  {
   "cell_type": "code",
   "execution_count": 9,
   "id": "decbce4f",
   "metadata": {
    "execution": {
     "iopub.execute_input": "2025-01-19T21:04:09.372641Z",
     "iopub.status.busy": "2025-01-19T21:04:09.372407Z",
     "iopub.status.idle": "2025-01-19T21:04:09.379031Z",
     "shell.execute_reply": "2025-01-19T21:04:09.378063Z"
    },
    "papermill": {
     "duration": 0.014872,
     "end_time": "2025-01-19T21:04:09.380437",
     "exception": false,
     "start_time": "2025-01-19T21:04:09.365565",
     "status": "completed"
    },
    "tags": []
   },
   "outputs": [
    {
     "name": "stdout",
     "output_type": "stream",
     "text": [
      "id               0\n",
      "date             0\n",
      "price            0\n",
      "bedrooms         0\n",
      "bathrooms        0\n",
      "sqft_living      0\n",
      "sqft_lot         0\n",
      "floors           0\n",
      "waterfront       0\n",
      "view             0\n",
      "condition        0\n",
      "grade            0\n",
      "sqft_above       0\n",
      "sqft_basement    0\n",
      "yr_built         0\n",
      "yr_renovated     0\n",
      "zipcode          0\n",
      "lat              0\n",
      "long             0\n",
      "sqft_living15    0\n",
      "sqft_lot15       0\n",
      "dtype: int64\n"
     ]
    }
   ],
   "source": [
    "# Count the number of missing values in each column\n",
    "missing_values_count = df.isnull().sum()\n",
    "\n",
    "print(missing_values_count)"
   ]
  },
  {
   "cell_type": "markdown",
   "id": "f89a586f",
   "metadata": {
    "papermill": {
     "duration": 0.006147,
     "end_time": "2025-01-19T21:04:09.393155",
     "exception": false,
     "start_time": "2025-01-19T21:04:09.387008",
     "status": "completed"
    },
    "tags": []
   },
   "source": [
    "# Exploratory Data Analysis (EDA)"
   ]
  },
  {
   "cell_type": "code",
   "execution_count": 10,
   "id": "a855984c",
   "metadata": {
    "execution": {
     "iopub.execute_input": "2025-01-19T21:04:09.406946Z",
     "iopub.status.busy": "2025-01-19T21:04:09.406668Z",
     "iopub.status.idle": "2025-01-19T21:04:09.415839Z",
     "shell.execute_reply": "2025-01-19T21:04:09.414958Z"
    },
    "papermill": {
     "duration": 0.017362,
     "end_time": "2025-01-19T21:04:09.417090",
     "exception": false,
     "start_time": "2025-01-19T21:04:09.399728",
     "status": "completed"
    },
    "tags": []
   },
   "outputs": [
    {
     "name": "stdout",
     "output_type": "stream",
     "text": [
      "        count\n",
      "floors       \n",
      "1.0     10680\n",
      "2.0      8241\n",
      "1.5      1910\n",
      "3.0       613\n",
      "2.5       161\n",
      "3.5         8\n"
     ]
    }
   ],
   "source": [
    "floors_counts = df['floors'].value_counts().to_frame(name='count') \n",
    "\n",
    "print(floors_counts)\n"
   ]
  },
  {
   "cell_type": "code",
   "execution_count": 11,
   "id": "0a467f44",
   "metadata": {
    "execution": {
     "iopub.execute_input": "2025-01-19T21:04:09.430412Z",
     "iopub.status.busy": "2025-01-19T21:04:09.430152Z",
     "iopub.status.idle": "2025-01-19T21:04:09.682891Z",
     "shell.execute_reply": "2025-01-19T21:04:09.681923Z"
    },
    "papermill": {
     "duration": 0.261323,
     "end_time": "2025-01-19T21:04:09.684690",
     "exception": false,
     "start_time": "2025-01-19T21:04:09.423367",
     "status": "completed"
    },
    "tags": []
   },
   "outputs": [
    {
     "data": {
      "text/plain": [
       "<Axes: xlabel='waterfront', ylabel='price'>"
      ]
     },
     "execution_count": 11,
     "metadata": {},
     "output_type": "execute_result"
    },
    {
     "data": {
      "image/png": "[encoded data removed]",
      "text/plain": [
       "<Figure size 640x480 with 1 Axes>"
      ]
     },
     "metadata": {},
     "output_type": "display_data"
    }
   ],
   "source": [
    "sns.boxplot(x= df['waterfront'],y= df['price'])"
   ]
  },
  {
   "cell_type": "code",
   "execution_count": 12,
   "id": "83e41e29",
   "metadata": {
    "execution": {
     "iopub.execute_input": "2025-01-19T21:04:09.700169Z",
     "iopub.status.busy": "2025-01-19T21:04:09.699906Z",
     "iopub.status.idle": "2025-01-19T21:04:11.034190Z",
     "shell.execute_reply": "2025-01-19T21:04:11.033228Z"
    },
    "papermill": {
     "duration": 1.343622,
     "end_time": "2025-01-19T21:04:11.035867",
     "exception": false,
     "start_time": "2025-01-19T21:04:09.692245",
     "status": "completed"
    },
    "tags": []
   },
   "outputs": [
    {
     "data": {
      "text/plain": [
       "<Axes: xlabel='sqft_above', ylabel='price'>"
      ]
     },
     "execution_count": 12,
     "metadata": {},
     "output_type": "execute_result"
    },
    {
     "data": {
      "image/png": "[encoded data removed]",
      "text/plain": [
       "<Figure size 640x480 with 1 Axes>"
      ]
     },
     "metadata": {},
     "output_type": "display_data"
    }
   ],
   "source": [
    "sns.regplot(x=df['sqft_above'],y=df['price'])\n"
   ]
  },
  {
   "cell_type": "code",
   "execution_count": 13,
   "id": "b9bb1c0c",
   "metadata": {
    "execution": {
     "iopub.execute_input": "2025-01-19T21:04:11.053403Z",
     "iopub.status.busy": "2025-01-19T21:04:11.053111Z",
     "iopub.status.idle": "2025-01-19T21:04:11.093400Z",
     "shell.execute_reply": "2025-01-19T21:04:11.092653Z"
    },
    "papermill": {
     "duration": 0.050853,
     "end_time": "2025-01-19T21:04:11.094893",
     "exception": false,
     "start_time": "2025-01-19T21:04:11.044040",
     "status": "completed"
    },
    "tags": []
   },
   "outputs": [
    {
     "data": {
      "text/plain": [
       "zipcode         -0.053203\n",
       "id              -0.016762\n",
       "date            -0.004357\n",
       "long             0.021626\n",
       "condition        0.036362\n",
       "yr_built         0.054012\n",
       "sqft_lot15       0.082447\n",
       "sqft_lot         0.089661\n",
       "yr_renovated     0.126434\n",
       "floors           0.256794\n",
       "waterfront       0.266369\n",
       "lat              0.307003\n",
       "bedrooms         0.308350\n",
       "sqft_basement    0.323816\n",
       "view             0.397293\n",
       "bathrooms        0.525138\n",
       "sqft_living15    0.585379\n",
       "sqft_above       0.605567\n",
       "grade            0.667434\n",
       "sqft_living      0.702035\n",
       "price            1.000000\n",
       "Name: price, dtype: float64"
      ]
     },
     "execution_count": 13,
     "metadata": {},
     "output_type": "execute_result"
    }
   ],
   "source": [
    "df['date'] = pd.to_datetime(df['date'])\n",
    "\n",
    "# Running corr function\n",
    "df.corr()['price'].sort_values()"
   ]
  },
  {
   "cell_type": "markdown",
   "id": "e90f9a34",
   "metadata": {
    "papermill": {
     "duration": 0.007497,
     "end_time": "2025-01-19T21:04:11.110404",
     "exception": false,
     "start_time": "2025-01-19T21:04:11.102907",
     "status": "completed"
    },
    "tags": []
   },
   "source": [
    "# Model Development"
   ]
  },
  {
   "cell_type": "markdown",
   "id": "466b3c5f",
   "metadata": {
    "papermill": {
     "duration": 0.007275,
     "end_time": "2025-01-19T21:04:11.125437",
     "exception": false,
     "start_time": "2025-01-19T21:04:11.118162",
     "status": "completed"
    },
    "tags": []
   },
   "source": [
    "## We can fit a linear regression model using the  longitude feature <code>'long'</code> and  caculate the R^2."
   ]
  },
  {
   "cell_type": "code",
   "execution_count": 14,
   "id": "e8f2f47a",
   "metadata": {
    "execution": {
     "iopub.execute_input": "2025-01-19T21:04:11.141554Z",
     "iopub.status.busy": "2025-01-19T21:04:11.141245Z",
     "iopub.status.idle": "2025-01-19T21:04:11.164633Z",
     "shell.execute_reply": "2025-01-19T21:04:11.163767Z"
    },
    "papermill": {
     "duration": 0.033116,
     "end_time": "2025-01-19T21:04:11.166099",
     "exception": false,
     "start_time": "2025-01-19T21:04:11.132983",
     "status": "completed"
    },
    "tags": []
   },
   "outputs": [
    {
     "data": {
      "text/plain": [
       "0.00046769430149007363"
      ]
     },
     "execution_count": 14,
     "metadata": {},
     "output_type": "execute_result"
    }
   ],
   "source": [
    "X = df[['long']]\n",
    "Y = df['price']\n",
    "lm = LinearRegression()\n",
    "lm.fit(X,Y)\n",
    "lm.score(X, Y)"
   ]
  },
  {
   "cell_type": "markdown",
   "id": "c4a374bc",
   "metadata": {
    "papermill": {
     "duration": 0.007546,
     "end_time": "2025-01-19T21:04:11.181996",
     "exception": false,
     "start_time": "2025-01-19T21:04:11.174450",
     "status": "completed"
    },
    "tags": []
   },
   "source": [
    "## We can also fit a linear regression model to predict the <code>'price'</code> using the feature <code>'sqft_living'</code> then calculate the R^2. Take a screenshot of your code and the value of the R^2."
   ]
  },
  {
   "cell_type": "code",
   "execution_count": 15,
   "id": "03bc6a53",
   "metadata": {
    "execution": {
     "iopub.execute_input": "2025-01-19T21:04:11.198581Z",
     "iopub.status.busy": "2025-01-19T21:04:11.198251Z",
     "iopub.status.idle": "2025-01-19T21:04:11.209079Z",
     "shell.execute_reply": "2025-01-19T21:04:11.208188Z"
    },
    "papermill": {
     "duration": 0.020491,
     "end_time": "2025-01-19T21:04:11.210386",
     "exception": false,
     "start_time": "2025-01-19T21:04:11.189895",
     "status": "completed"
    },
    "tags": []
   },
   "outputs": [
    {
     "data": {
      "text/plain": [
       "0.4928532179037931"
      ]
     },
     "execution_count": 15,
     "metadata": {},
     "output_type": "execute_result"
    }
   ],
   "source": [
    "Z = df[['sqft_living']]\n",
    "Y = df['price']\n",
    "lm = LinearRegression()\n",
    "lm.fit(Z,Y)\n",
    "lm.score(Z, Y)"
   ]
  },
  {
   "cell_type": "markdown",
   "id": "f3eeca25",
   "metadata": {
    "papermill": {
     "duration": 0.007524,
     "end_time": "2025-01-19T21:04:11.225997",
     "exception": false,
     "start_time": "2025-01-19T21:04:11.218473",
     "status": "completed"
    },
    "tags": []
   },
   "source": [
    "## Now a linear regression model to predict the <code>'price'</code> using the list of features:"
   ]
  },
  {
   "cell_type": "code",
   "execution_count": 16,
   "id": "d644f73b",
   "metadata": {
    "execution": {
     "iopub.execute_input": "2025-01-19T21:04:11.242626Z",
     "iopub.status.busy": "2025-01-19T21:04:11.242324Z",
     "iopub.status.idle": "2025-01-19T21:04:11.273792Z",
     "shell.execute_reply": "2025-01-19T21:04:11.272040Z"
    },
    "papermill": {
     "duration": 0.045946,
     "end_time": "2025-01-19T21:04:11.280031",
     "exception": false,
     "start_time": "2025-01-19T21:04:11.234085",
     "status": "completed"
    },
    "tags": []
   },
   "outputs": [
    {
     "name": "stdout",
     "output_type": "stream",
     "text": [
      "[287160.14176653 661944.14176653 308152.14176653 ... 303544.14176653\n",
      " 426424.14176653 303544.14176653]\n"
     ]
    }
   ],
   "source": [
    "features =df[[\"floors\", \"waterfront\",\"lat\" ,\"bedrooms\" ,\"sqft_basement\" ,\"view\" ,\"bathrooms\",\"sqft_living15\",\"sqft_above\",\"grade\",\"sqft_living\"]]\n",
    "Y = df['price']\n",
    "lm = LinearRegression()\n",
    "lm.fit(features,Y)\n",
    "yhat = lm.predict(features) \n",
    "print(yhat)\n"
   ]
  },
  {
   "cell_type": "code",
   "execution_count": 17,
   "id": "dbdd015a",
   "metadata": {
    "execution": {
     "iopub.execute_input": "2025-01-19T21:04:11.386567Z",
     "iopub.status.busy": "2025-01-19T21:04:11.386034Z",
     "iopub.status.idle": "2025-01-19T21:04:11.391774Z",
     "shell.execute_reply": "2025-01-19T21:04:11.391186Z"
    },
    "papermill": {
     "duration": 0.048945,
     "end_time": "2025-01-19T21:04:11.392878",
     "exception": false,
     "start_time": "2025-01-19T21:04:11.343933",
     "status": "completed"
    },
    "tags": []
   },
   "outputs": [
    {
     "name": "stdout",
     "output_type": "stream",
     "text": [
      "R² score of the model: 0.6576672506165839\n"
     ]
    }
   ],
   "source": [
    "from sklearn.metrics import r2_score \n",
    "\n",
    "r2 = r2_score(Y, yhat) \n",
    "\n",
    "print(f\"R² score of the model: {r2}\")"
   ]
  },
  {
   "cell_type": "markdown",
   "id": "60aff90b",
   "metadata": {
    "papermill": {
     "duration": 0.007723,
     "end_time": "2025-01-19T21:04:11.408921",
     "exception": false,
     "start_time": "2025-01-19T21:04:11.401198",
     "status": "completed"
    },
    "tags": []
   },
   "source": [
    "## I will Create a list of tuples, the first element in the tuple contains the name of the estimator:\n",
    "\n",
    "<code>'scale'</code>\n",
    "\n",
    "<code>'polynomial'</code>\n",
    "\n",
    "<code>'model'</code>\n",
    "\n",
    "The second element in the tuple  contains the model constructor\n",
    "\n",
    "<code>StandardScaler()</code>\n",
    "\n",
    "<code>PolynomialFeatures(include_bias=False)</code>\n",
    "\n",
    "<code>LinearRegression()</code>"
   ]
  },
  {
   "cell_type": "code",
   "execution_count": 18,
   "id": "bc678800",
   "metadata": {
    "execution": {
     "iopub.execute_input": "2025-01-19T21:04:11.425517Z",
     "iopub.status.busy": "2025-01-19T21:04:11.425231Z",
     "iopub.status.idle": "2025-01-19T21:04:11.428923Z",
     "shell.execute_reply": "2025-01-19T21:04:11.428077Z"
    },
    "papermill": {
     "duration": 0.013571,
     "end_time": "2025-01-19T21:04:11.430249",
     "exception": false,
     "start_time": "2025-01-19T21:04:11.416678",
     "status": "completed"
    },
    "tags": []
   },
   "outputs": [],
   "source": [
    "Input=[('scale',StandardScaler()),('polynomial', PolynomialFeatures(include_bias=False)),('model',LinearRegression())]"
   ]
  },
  {
   "cell_type": "markdown",
   "id": "a0c436be",
   "metadata": {
    "papermill": {
     "duration": 0.007756,
     "end_time": "2025-01-19T21:04:11.446030",
     "exception": false,
     "start_time": "2025-01-19T21:04:11.438274",
     "status": "completed"
    },
    "tags": []
   },
   "source": [
    "## Creating a pipeline object to predict the 'price', fit the object using the features in the list <code>features</code>, and calculate the R^2."
   ]
  },
  {
   "cell_type": "code",
   "execution_count": 19,
   "id": "33a85e06",
   "metadata": {
    "execution": {
     "iopub.execute_input": "2025-01-19T21:04:11.463560Z",
     "iopub.status.busy": "2025-01-19T21:04:11.463239Z",
     "iopub.status.idle": "2025-01-19T21:04:11.623423Z",
     "shell.execute_reply": "2025-01-19T21:04:11.621902Z"
    },
    "papermill": {
     "duration": 0.176211,
     "end_time": "2025-01-19T21:04:11.630634",
     "exception": false,
     "start_time": "2025-01-19T21:04:11.454423",
     "status": "completed"
    },
    "tags": []
   },
   "outputs": [
    {
     "name": "stdout",
     "output_type": "stream",
     "text": [
      "Predicted prices: [349655.  559187.5 447710.5 ... 418820.  459630.  418770. ]\n",
      "R² score of the model: 0.7513474807555491\n"
     ]
    }
   ],
   "source": [
    "pipe=Pipeline(Input)\n",
    "pipe.fit(features,Y)\n",
    "ypipe=pipe.predict(features)\n",
    "\n",
    "print(\"Predicted prices:\",ypipe)\n",
    "\n",
    "print(\"R² score of the model:\",r2_score(Y,ypipe))\n",
    "\n"
   ]
  },
  {
   "cell_type": "markdown",
   "id": "618dcd23",
   "metadata": {
    "papermill": {
     "duration": 0.026594,
     "end_time": "2025-01-19T21:04:11.700075",
     "exception": false,
     "start_time": "2025-01-19T21:04:11.673481",
     "status": "completed"
    },
    "tags": []
   },
   "source": [
    "# Model Evaluation and Refinement"
   ]
  },
  {
   "cell_type": "markdown",
   "id": "edfa6031",
   "metadata": {
    "papermill": {
     "duration": 0.013107,
     "end_time": "2025-01-19T21:04:11.740161",
     "exception": false,
     "start_time": "2025-01-19T21:04:11.727054",
     "status": "completed"
    },
    "tags": []
   },
   "source": [
    "## Import the necessary Libraries:"
   ]
  },
  {
   "cell_type": "code",
   "execution_count": 20,
   "id": "0b804583",
   "metadata": {
    "execution": {
     "iopub.execute_input": "2025-01-19T21:04:11.757720Z",
     "iopub.status.busy": "2025-01-19T21:04:11.757402Z",
     "iopub.status.idle": "2025-01-19T21:04:11.761987Z",
     "shell.execute_reply": "2025-01-19T21:04:11.761135Z"
    },
    "papermill": {
     "duration": 0.014856,
     "end_time": "2025-01-19T21:04:11.763161",
     "exception": false,
     "start_time": "2025-01-19T21:04:11.748305",
     "status": "completed"
    },
    "tags": []
   },
   "outputs": [
    {
     "name": "stdout",
     "output_type": "stream",
     "text": [
      "done\n"
     ]
    }
   ],
   "source": [
    "from sklearn.model_selection import cross_val_score\n",
    "from sklearn.model_selection import train_test_split\n",
    "print(\"done\")"
   ]
  },
  {
   "cell_type": "markdown",
   "id": "2c739312",
   "metadata": {
    "papermill": {
     "duration": 0.007949,
     "end_time": "2025-01-19T21:04:11.779705",
     "exception": false,
     "start_time": "2025-01-19T21:04:11.771756",
     "status": "completed"
    },
    "tags": []
   },
   "source": [
    "## Split the data into training and testing sets:"
   ]
  },
  {
   "cell_type": "code",
   "execution_count": 21,
   "id": "d3aaa839",
   "metadata": {
    "execution": {
     "iopub.execute_input": "2025-01-19T21:04:11.796724Z",
     "iopub.status.busy": "2025-01-19T21:04:11.796470Z",
     "iopub.status.idle": "2025-01-19T21:04:11.807434Z",
     "shell.execute_reply": "2025-01-19T21:04:11.806741Z"
    },
    "papermill": {
     "duration": 0.020905,
     "end_time": "2025-01-19T21:04:11.808788",
     "exception": false,
     "start_time": "2025-01-19T21:04:11.787883",
     "status": "completed"
    },
    "tags": []
   },
   "outputs": [
    {
     "name": "stdout",
     "output_type": "stream",
     "text": [
      "number of test samples: 3242\n",
      "number of training samples: 18371\n"
     ]
    }
   ],
   "source": [
    "features =[\"floors\", \"waterfront\",\"lat\" ,\"bedrooms\" ,\"sqft_basement\" ,\"view\" ,\"bathrooms\",\"sqft_living15\",\"sqft_above\",\"grade\",\"sqft_living\"]    \n",
    "X = df[features]\n",
    "Y = df['price']\n",
    "\n",
    "x_train, x_test, y_train, y_test = train_test_split(X, Y, test_size=0.15, random_state=1)\n",
    "\n",
    "\n",
    "print(\"number of test samples:\", x_test.shape[0])\n",
    "print(\"number of training samples:\",x_train.shape[0])"
   ]
  },
  {
   "cell_type": "markdown",
   "id": "2754a77a",
   "metadata": {
    "papermill": {
     "duration": 0.007572,
     "end_time": "2025-01-19T21:04:11.824449",
     "exception": false,
     "start_time": "2025-01-19T21:04:11.816877",
     "status": "completed"
    },
    "tags": []
   },
   "source": [
    "## Creating and fitting a Ridge regression object using the training data, setting the regularization parameter to 0.1, and calculating the R^2 using the test data."
   ]
  },
  {
   "cell_type": "code",
   "execution_count": 22,
   "id": "3b0de1a9",
   "metadata": {
    "execution": {
     "iopub.execute_input": "2025-01-19T21:04:11.841889Z",
     "iopub.status.busy": "2025-01-19T21:04:11.841665Z",
     "iopub.status.idle": "2025-01-19T21:04:11.858472Z",
     "shell.execute_reply": "2025-01-19T21:04:11.857317Z"
    },
    "papermill": {
     "duration": 0.028585,
     "end_time": "2025-01-19T21:04:11.861268",
     "exception": false,
     "start_time": "2025-01-19T21:04:11.832683",
     "status": "completed"
    },
    "tags": []
   },
   "outputs": [
    {
     "name": "stdout",
     "output_type": "stream",
     "text": [
      "R² score of the model: 0.6480374087702243\n"
     ]
    }
   ],
   "source": [
    "from sklearn.linear_model import Ridge\n",
    "RidgeModel=Ridge(alpha=0.1)\n",
    "RidgeModel.fit(x_train, y_train)\n",
    "yhat = RidgeModel.predict(x_test)\n",
    "print(\"R² score of the model:\",r2_score(y_test,yhat))"
   ]
  },
  {
   "cell_type": "markdown",
   "id": "2149c6ca",
   "metadata": {
    "papermill": {
     "duration": 0.022657,
     "end_time": "2025-01-19T21:04:11.907532",
     "exception": false,
     "start_time": "2025-01-19T21:04:11.884875",
     "status": "completed"
    },
    "tags": []
   },
   "source": [
    "## Performing a second order polynomial transform on both the training data and testing data. Creating and fitting a Ridge regression object using the training data,and calculating the R^2 utilising the test data provided."
   ]
  },
  {
   "cell_type": "code",
   "execution_count": 23,
   "id": "78b0b6f6",
   "metadata": {
    "execution": {
     "iopub.execute_input": "2025-01-19T21:04:11.956262Z",
     "iopub.status.busy": "2025-01-19T21:04:11.955782Z",
     "iopub.status.idle": "2025-01-19T21:04:12.178488Z",
     "shell.execute_reply": "2025-01-19T21:04:12.176050Z"
    },
    "papermill": {
     "duration": 0.250545,
     "end_time": "2025-01-19T21:04:12.181377",
     "exception": false,
     "start_time": "2025-01-19T21:04:11.930832",
     "status": "completed"
    },
    "tags": []
   },
   "outputs": [
    {
     "name": "stdout",
     "output_type": "stream",
     "text": [
      "R² score of the model: 0.7004432052936521\n"
     ]
    }
   ],
   "source": [
    "\n",
    "# Keeping previous ridgemodel that is already set at 0.1 so no need to create a new regression object \n",
    "\n",
    "pr = PolynomialFeatures(degree=2)\n",
    "x_train_pr = pr.fit_transform(x_train)\n",
    "x_test_pr = pr.fit_transform(x_test)\n",
    "RidgeModel.fit(x_train_pr, y_train)\n",
    "y_hat = RidgeModel.predict(x_test_pr)\n",
    "print(\"R² score of the model:\",r2_score(y_test,y_hat))"
   ]
  }
 ],
 "metadata": {
  "kaggle": {
   "accelerator": "none",
   "dataSources": [
    {
     "datasetId": 128,
     "sourceId": 270,
     "sourceType": "datasetVersion"
    }
   ],
   "dockerImageVersionId": 30822,
   "isGpuEnabled": false,
   "isInternetEnabled": true,
   "language": "python",
   "sourceType": "notebook"
  },
  "kernelspec": {
   "display_name": "Python 3",
   "language": "python",
   "name": "python3"
  },
  "language_info": {
   "codemirror_mode": {
    "name": "ipython",
    "version": 3
   },
   "file_extension": ".py",
   "mimetype": "text/x-python",
   "name": "python",
   "nbconvert_exporter": "python",
   "pygments_lexer": "ipython3",
   "version": "3.10.12"
  },
  "papermill": {
   "default_parameters": {},
   "duration": 13.781934,
   "end_time": "2025-01-19T21:04:12.721086",
   "environment_variables": {},
   "exception": null,
   "input_path": "__notebook__.ipynb",
   "output_path": "__notebook__.ipynb",
   "parameters": {},
   "start_time": "2025-01-19T21:03:58.939152",
   "version": "2.6.0"
  },
  "prev_pub_hash": "8e1b9a014f4d5dd1f594f0f84b9e2a27c098aabf3c393aa0062e8aef51a297d0"
 },
 "nbformat": 4,
 "nbformat_minor": 5
}
